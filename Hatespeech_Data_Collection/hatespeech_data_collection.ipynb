{
  "nbformat": 4,
  "nbformat_minor": 0,
  "metadata": {
    "colab": {
      "provenance": []
    },
    "kernelspec": {
      "name": "python3",
      "display_name": "Python 3"
    },
    "language_info": {
      "name": "python"
    }
  },
  "cells": [
    {
      "cell_type": "code",
      "execution_count": 1,
      "metadata": {
        "colab": {
          "base_uri": "https://localhost:8080/",
          "height": 423
        },
        "id": "4bBK0uUj2tGS",
        "outputId": "49df3884-6088-45c2-8c2c-dd8bebd06128"
      },
      "outputs": [
        {
          "output_type": "execute_result",
          "data": {
            "text/plain": [
              "                 tweet_id maj_label\n",
              "0      849667487180259329   abusive\n",
              "1      850490912954351616   abusive\n",
              "2      848791766853668864   abusive\n",
              "3      848306464892604416   abusive\n",
              "4      850010509969465344    normal\n",
              "...                   ...       ...\n",
              "79995  847640895956459521    normal\n",
              "79996  850335795022102530    normal\n",
              "79997  848201162717265920    normal\n",
              "79998  848939985160077312      spam\n",
              "79999  847673586361843713    normal\n",
              "\n",
              "[80000 rows x 2 columns]"
            ],
            "text/html": [
              "\n",
              "  <div id=\"df-5585d49b-4f5c-4f0f-baba-32b6884a7485\">\n",
              "    <div class=\"colab-df-container\">\n",
              "      <div>\n",
              "<style scoped>\n",
              "    .dataframe tbody tr th:only-of-type {\n",
              "        vertical-align: middle;\n",
              "    }\n",
              "\n",
              "    .dataframe tbody tr th {\n",
              "        vertical-align: top;\n",
              "    }\n",
              "\n",
              "    .dataframe thead th {\n",
              "        text-align: right;\n",
              "    }\n",
              "</style>\n",
              "<table border=\"1\" class=\"dataframe\">\n",
              "  <thead>\n",
              "    <tr style=\"text-align: right;\">\n",
              "      <th></th>\n",
              "      <th>tweet_id</th>\n",
              "      <th>maj_label</th>\n",
              "    </tr>\n",
              "  </thead>\n",
              "  <tbody>\n",
              "    <tr>\n",
              "      <th>0</th>\n",
              "      <td>849667487180259329</td>\n",
              "      <td>abusive</td>\n",
              "    </tr>\n",
              "    <tr>\n",
              "      <th>1</th>\n",
              "      <td>850490912954351616</td>\n",
              "      <td>abusive</td>\n",
              "    </tr>\n",
              "    <tr>\n",
              "      <th>2</th>\n",
              "      <td>848791766853668864</td>\n",
              "      <td>abusive</td>\n",
              "    </tr>\n",
              "    <tr>\n",
              "      <th>3</th>\n",
              "      <td>848306464892604416</td>\n",
              "      <td>abusive</td>\n",
              "    </tr>\n",
              "    <tr>\n",
              "      <th>4</th>\n",
              "      <td>850010509969465344</td>\n",
              "      <td>normal</td>\n",
              "    </tr>\n",
              "    <tr>\n",
              "      <th>...</th>\n",
              "      <td>...</td>\n",
              "      <td>...</td>\n",
              "    </tr>\n",
              "    <tr>\n",
              "      <th>79995</th>\n",
              "      <td>847640895956459521</td>\n",
              "      <td>normal</td>\n",
              "    </tr>\n",
              "    <tr>\n",
              "      <th>79996</th>\n",
              "      <td>850335795022102530</td>\n",
              "      <td>normal</td>\n",
              "    </tr>\n",
              "    <tr>\n",
              "      <th>79997</th>\n",
              "      <td>848201162717265920</td>\n",
              "      <td>normal</td>\n",
              "    </tr>\n",
              "    <tr>\n",
              "      <th>79998</th>\n",
              "      <td>848939985160077312</td>\n",
              "      <td>spam</td>\n",
              "    </tr>\n",
              "    <tr>\n",
              "      <th>79999</th>\n",
              "      <td>847673586361843713</td>\n",
              "      <td>normal</td>\n",
              "    </tr>\n",
              "  </tbody>\n",
              "</table>\n",
              "<p>80000 rows × 2 columns</p>\n",
              "</div>\n",
              "      <button class=\"colab-df-convert\" onclick=\"convertToInteractive('df-5585d49b-4f5c-4f0f-baba-32b6884a7485')\"\n",
              "              title=\"Convert this dataframe to an interactive table.\"\n",
              "              style=\"display:none;\">\n",
              "        \n",
              "  <svg xmlns=\"http://www.w3.org/2000/svg\" height=\"24px\"viewBox=\"0 0 24 24\"\n",
              "       width=\"24px\">\n",
              "    <path d=\"M0 0h24v24H0V0z\" fill=\"none\"/>\n",
              "    <path d=\"M18.56 5.44l.94 2.06.94-2.06 2.06-.94-2.06-.94-.94-2.06-.94 2.06-2.06.94zm-11 1L8.5 8.5l.94-2.06 2.06-.94-2.06-.94L8.5 2.5l-.94 2.06-2.06.94zm10 10l.94 2.06.94-2.06 2.06-.94-2.06-.94-.94-2.06-.94 2.06-2.06.94z\"/><path d=\"M17.41 7.96l-1.37-1.37c-.4-.4-.92-.59-1.43-.59-.52 0-1.04.2-1.43.59L10.3 9.45l-7.72 7.72c-.78.78-.78 2.05 0 2.83L4 21.41c.39.39.9.59 1.41.59.51 0 1.02-.2 1.41-.59l7.78-7.78 2.81-2.81c.8-.78.8-2.07 0-2.86zM5.41 20L4 18.59l7.72-7.72 1.47 1.35L5.41 20z\"/>\n",
              "  </svg>\n",
              "      </button>\n",
              "      \n",
              "  <style>\n",
              "    .colab-df-container {\n",
              "      display:flex;\n",
              "      flex-wrap:wrap;\n",
              "      gap: 12px;\n",
              "    }\n",
              "\n",
              "    .colab-df-convert {\n",
              "      background-color: #E8F0FE;\n",
              "      border: none;\n",
              "      border-radius: 50%;\n",
              "      cursor: pointer;\n",
              "      display: none;\n",
              "      fill: #1967D2;\n",
              "      height: 32px;\n",
              "      padding: 0 0 0 0;\n",
              "      width: 32px;\n",
              "    }\n",
              "\n",
              "    .colab-df-convert:hover {\n",
              "      background-color: #E2EBFA;\n",
              "      box-shadow: 0px 1px 2px rgba(60, 64, 67, 0.3), 0px 1px 3px 1px rgba(60, 64, 67, 0.15);\n",
              "      fill: #174EA6;\n",
              "    }\n",
              "\n",
              "    [theme=dark] .colab-df-convert {\n",
              "      background-color: #3B4455;\n",
              "      fill: #D2E3FC;\n",
              "    }\n",
              "\n",
              "    [theme=dark] .colab-df-convert:hover {\n",
              "      background-color: #434B5C;\n",
              "      box-shadow: 0px 1px 3px 1px rgba(0, 0, 0, 0.15);\n",
              "      filter: drop-shadow(0px 1px 2px rgba(0, 0, 0, 0.3));\n",
              "      fill: #FFFFFF;\n",
              "    }\n",
              "  </style>\n",
              "\n",
              "      <script>\n",
              "        const buttonEl =\n",
              "          document.querySelector('#df-5585d49b-4f5c-4f0f-baba-32b6884a7485 button.colab-df-convert');\n",
              "        buttonEl.style.display =\n",
              "          google.colab.kernel.accessAllowed ? 'block' : 'none';\n",
              "\n",
              "        async function convertToInteractive(key) {\n",
              "          const element = document.querySelector('#df-5585d49b-4f5c-4f0f-baba-32b6884a7485');\n",
              "          const dataTable =\n",
              "            await google.colab.kernel.invokeFunction('convertToInteractive',\n",
              "                                                     [key], {});\n",
              "          if (!dataTable) return;\n",
              "\n",
              "          const docLinkHtml = 'Like what you see? Visit the ' +\n",
              "            '<a target=\"_blank\" href=https://colab.research.google.com/notebooks/data_table.ipynb>data table notebook</a>'\n",
              "            + ' to learn more about interactive tables.';\n",
              "          element.innerHTML = '';\n",
              "          dataTable['output_type'] = 'display_data';\n",
              "          await google.colab.output.renderOutput(dataTable, element);\n",
              "          const docLink = document.createElement('div');\n",
              "          docLink.innerHTML = docLinkHtml;\n",
              "          element.appendChild(docLink);\n",
              "        }\n",
              "      </script>\n",
              "    </div>\n",
              "  </div>\n",
              "  "
            ]
          },
          "metadata": {},
          "execution_count": 1
        }
      ],
      "source": [
        "import pandas as pd\n",
        "\n",
        "df = pd.read_csv('/content/hatespeechtwitter.csv')\n",
        "df"
      ]
    },
    {
      "cell_type": "code",
      "source": [
        "import tweepy"
      ],
      "metadata": {
        "id": "oXN-XCoP37Az"
      },
      "execution_count": 2,
      "outputs": []
    },
    {
      "cell_type": "code",
      "source": [
        "with open ('/content/twitter-api-secret.txt', \"r\") as api_file:\n",
        "  api_secret=api_file.read().splitlines() \n",
        "\n",
        "auth = tweepy.AppAuthHandler(api_secret[0], api_secret[1])\n",
        "\n",
        "api = tweepy.API(auth, wait_on_rate_limit=True)"
      ],
      "metadata": {
        "id": "2jO-hwAN38c8"
      },
      "execution_count": 4,
      "outputs": []
    },
    {
      "cell_type": "code",
      "source": [
        "tweet_IDs_list = df[\"tweet_id\"].values\n",
        "tweet_IDs_list"
      ],
      "metadata": {
        "colab": {
          "base_uri": "https://localhost:8080/"
        },
        "id": "wDDP2PYL4BMS",
        "outputId": "7d07a216-b8f5-4046-8995-094c6e6e1882"
      },
      "execution_count": 6,
      "outputs": [
        {
          "output_type": "execute_result",
          "data": {
            "text/plain": [
              "array([849667487180259329, 850490912954351616, 848791766853668864, ...,\n",
              "       848201162717265920, 848939985160077312, 847673586361843713])"
            ]
          },
          "metadata": {},
          "execution_count": 6
        }
      ]
    },
    {
      "cell_type": "code",
      "source": [
        "df_tweets = pd.DataFrame()\n",
        "df_tweets['text'] = None\n",
        "i = 0\n",
        "for ids in tweet_IDs_list:\n",
        "  if i  > 800:\n",
        "    break\n",
        "  try:\n",
        "    tweet = api.get_status(ids)\n",
        "    df_tweets.at[i,'text'] = tweet.text\n",
        "    df_tweets.at[i,'label'] =df[\"maj_label\"].iloc[i]\n",
        "    print(tweet.text)\n",
        "  except:\n",
        "    df_tweets.at[i,'text'] =\"Nan\"\n",
        "    print(\"ID is not valid\")\n",
        "  i+=1"
      ],
      "metadata": {
        "colab": {
          "base_uri": "https://localhost:8080/"
        },
        "id": "qmF6lRwy4MjE",
        "outputId": "2f44e6d5-8c4e-4517-cfa2-2e55286474ba"
      },
      "execution_count": 10,
      "outputs": [
        {
          "output_type": "stream",
          "name": "stderr",
          "text": [
            "WARNING:tweepy.api:Rate limit reached. Sleeping for: 635\n"
          ]
        },
        {
          "output_type": "stream",
          "name": "stdout",
          "text": [
            "ID is not valid\n"
          ]
        },
        {
          "output_type": "stream",
          "name": "stderr",
          "text": [
            "WARNING:tweepy.api:Rate limit reached. Sleeping for: 573\n"
          ]
        },
        {
          "output_type": "stream",
          "name": "stdout",
          "text": [
            "ID is not valid\n"
          ]
        },
        {
          "output_type": "stream",
          "name": "stderr",
          "text": [
            "WARNING:tweepy.api:Rate limit reached. Sleeping for: 571\n"
          ]
        },
        {
          "output_type": "stream",
          "name": "stdout",
          "text": [
            "ID is not valid\n"
          ]
        },
        {
          "output_type": "stream",
          "name": "stderr",
          "text": [
            "WARNING:tweepy.api:Rate limit reached. Sleeping for: 561\n"
          ]
        },
        {
          "output_type": "stream",
          "name": "stdout",
          "text": [
            "ID is not valid\n"
          ]
        },
        {
          "output_type": "stream",
          "name": "stderr",
          "text": [
            "WARNING:tweepy.api:Rate limit reached. Sleeping for: 560\n"
          ]
        },
        {
          "output_type": "stream",
          "name": "stdout",
          "text": [
            "ID is not valid\n"
          ]
        },
        {
          "output_type": "stream",
          "name": "stderr",
          "text": [
            "WARNING:tweepy.api:Rate limit reached. Sleeping for: 557\n"
          ]
        },
        {
          "output_type": "stream",
          "name": "stdout",
          "text": [
            "ID is not valid\n"
          ]
        },
        {
          "output_type": "stream",
          "name": "stderr",
          "text": [
            "WARNING:tweepy.api:Rate limit reached. Sleeping for: 546\n"
          ]
        },
        {
          "output_type": "stream",
          "name": "stdout",
          "text": [
            "ID is not valid\n"
          ]
        },
        {
          "output_type": "stream",
          "name": "stderr",
          "text": [
            "WARNING:tweepy.api:Rate limit reached. Sleeping for: 545\n"
          ]
        },
        {
          "output_type": "stream",
          "name": "stdout",
          "text": [
            "ID is not valid\n"
          ]
        },
        {
          "output_type": "stream",
          "name": "stderr",
          "text": [
            "WARNING:tweepy.api:Rate limit reached. Sleeping for: 469\n"
          ]
        },
        {
          "output_type": "stream",
          "name": "stdout",
          "text": [
            "ID is not valid\n"
          ]
        },
        {
          "output_type": "stream",
          "name": "stderr",
          "text": [
            "WARNING:tweepy.api:Rate limit reached. Sleeping for: 379\n"
          ]
        },
        {
          "output_type": "stream",
          "name": "stdout",
          "text": [
            "ID is not valid\n"
          ]
        },
        {
          "output_type": "stream",
          "name": "stderr",
          "text": [
            "WARNING:tweepy.api:Rate limit reached. Sleeping for: 250\n"
          ]
        },
        {
          "output_type": "stream",
          "name": "stdout",
          "text": [
            "ID is not valid\n"
          ]
        },
        {
          "output_type": "stream",
          "name": "stderr",
          "text": [
            "WARNING:tweepy.api:Rate limit reached. Sleeping for: 235\n"
          ]
        },
        {
          "output_type": "stream",
          "name": "stdout",
          "text": [
            "ID is not valid\n"
          ]
        },
        {
          "output_type": "stream",
          "name": "stderr",
          "text": [
            "WARNING:tweepy.api:Rate limit reached. Sleeping for: 231\n"
          ]
        },
        {
          "output_type": "stream",
          "name": "stdout",
          "text": [
            "ID is not valid\n"
          ]
        },
        {
          "output_type": "stream",
          "name": "stderr",
          "text": [
            "WARNING:tweepy.api:Rate limit reached. Sleeping for: 230\n"
          ]
        },
        {
          "output_type": "stream",
          "name": "stdout",
          "text": [
            "ID is not valid\n",
            "ID is not valid\n"
          ]
        },
        {
          "output_type": "stream",
          "name": "stderr",
          "text": [
            "WARNING:tweepy.api:Rate limit reached. Sleeping for: 230\n",
            "WARNING:tweepy.api:Rate limit reached. Sleeping for: 227\n"
          ]
        },
        {
          "output_type": "stream",
          "name": "stdout",
          "text": [
            "ID is not valid\n"
          ]
        },
        {
          "output_type": "stream",
          "name": "stderr",
          "text": [
            "WARNING:tweepy.api:Rate limit reached. Sleeping for: 224\n"
          ]
        },
        {
          "output_type": "stream",
          "name": "stdout",
          "text": [
            "ID is not valid\n",
            "ID is not valid\n",
            "ID is not valid\n",
            "RT @TheBloodShow: I'm letting u know now. We not protesting when the laws shoot yo ass for this stupid phone case 😂😂 https://t.co/IcSMsKpCrl\n",
            "Damonte Dodd's snap rn has me fucking geeked this man is hammered! 😂\n",
            "RT @youngthug: Horse face hoe stop playing before I show the world yo lil ugly ass\n",
            "ID is not valid\n",
            "ID is not valid\n",
            "RT @saucefredo_: *Yo momma had them ugly ass heels, not mine. https://t.co/VY2fLKiYXW\n",
            "ID is not valid\n",
            "ID is not valid\n",
            "ID is not valid\n",
            "ID is not valid\n",
            "ID is not valid\n",
            "ID is not valid\n",
            "ID is not valid\n",
            "RT @PATAFRIA: I hate when my exes siblings try to get at me. Like I fucked your brother bro, it's one dick per family\n",
            "@SmartSacks Bloody hell did that interview ages ago I thought it had been spiked.\n",
            "addie's bout to be annoying as hell on twitter today https://t.co/MCKY2HFT8b\n",
            "ID is not valid\n",
            "ID is not valid\n",
            "ID is not valid\n",
            "Exposing @SecurityRest\n",
            "Kid is retarded and a script kiddie.\n",
            "Ignore him. He's harmless. https://t.co/IKXxEdKvYI\n",
            "RT @ParissaXo: i'm tired of u feminist bitches bc this is just disgusting https://t.co/S91o478GJ2\n",
            "RT @ttrejuan2: @louudagoat @jigaboouzi @_allBsforBaller Very idiotic 🤦🏾‍♂️\n",
            "ID is not valid\n",
            "RT @ShefVaidya: Dear @navinkhaitan, here is the story abt the Jap kid who was found on 3rd June 16. Pls don't b stupid like yr leader @Offi…\n",
            "@Kenstaaa @Footy_Tipsters Accas for ya mate always 1 fucking team!\n",
            "ID is not valid\n",
            "ID is not valid\n",
            "ID is not valid\n",
            "ID is not valid\n",
            "RT @_hottestinacity: Hate to see bitches get played but mfs didn't tell me so I'm not telling y'all 😂🤷🏽‍♀️\n",
            "ID is not valid\n",
            "ID is not valid\n",
            "ID is not valid\n",
            "Just tried to make myself cookies AND I FUCKING BURNT THEM! WHYYYYY\n",
            "ID is not valid\n",
            "@famousquotenet @prchovanec Alexander Hamilton fucking hated democracy\n",
            "ID is not valid\n",
            "ID is not valid\n",
            "ID is not valid\n",
            "ID is not valid\n",
            "Who the hell has a shower at 3.30am?? Worst night's sleep in months and it had to be when I have work in the morning.\n",
            "ID is not valid\n",
            "@jaikpuppyteeth @rubblewoman yall if your boyfriend's dick is so filthy that sex burns i hope your advice is \"dump him\"\n",
            "ID is not valid\n",
            "RT @FunnyPicsDepot: RT if you still hate this nigga 😂 https://t.co/S4QirK9MnV\n",
            "ID is not valid\n",
            "ID is not valid\n",
            "RT @LouisFeola3: @On_Gawwdd Kris is the mom you idiot\n",
            "ID is not valid\n",
            "@TopazioSmeraldo @FoxNews @newtgingrich Not when it comes to you blazing idiot liberals.\n",
            "ID is not valid\n",
            "When u think shits going bad and then... https://t.co/cgpU2tWXq4\n",
            "ID is not valid\n",
            "ID is not valid\n",
            "@FMbeltra @jnsanchez IF you believe ALL AMERICANS ARE PATRIOTS then ur the fucking idiot. Pulse Nightclub, San Bernardino, both killers 1of2\n",
            "ID is not valid\n",
            "I hate when I ft ppl on accident 🙄, ion want a bitch thinking I'm calling them 😐.\n",
            "ID is not valid\n",
            "ID is not valid\n",
            "ID is not valid\n",
            "ID is not valid\n",
            "My Senior year I'm not sitting in this boring ass ceremony! My father just going have to get tf over it 😂😂\n",
            "@tambourine Ugh that sounds terrible, i'm sorry you had a shitty night\n",
            "ID is not valid\n",
            "ID is not valid\n",
            "ID is not valid\n",
            "ID is not valid\n",
            "ID is not valid\n",
            "ID is not valid\n",
            "ID is not valid\n",
            "ID is not valid\n",
            "@TristenDeValk I know royce told me and now I feel like an idiot 😂\n",
            "ID is not valid\n",
            "ID is not valid\n",
            "ID is not valid\n",
            "U had Shawn Michaels, Triple H, The Rock, Cena, even AJ Styles would have worked, but Vince chose 5 move idiot Reigns..  #Wrestlemania\n",
            "ID is not valid\n"
          ]
        }
      ]
    },
    {
      "cell_type": "code",
      "source": [
        "df_tweets.head(20)"
      ],
      "metadata": {
        "colab": {
          "base_uri": "https://localhost:8080/",
          "height": 676
        },
        "id": "_9XLXpTU5WcL",
        "outputId": "fe07ab5b-3be1-449e-9f41-9b181b70d0b1"
      },
      "execution_count": 13,
      "outputs": [
        {
          "output_type": "execute_result",
          "data": {
            "text/plain": [
              "                                                   text    label\n",
              "2004                                                Nan      NaN\n",
              "2005  Alex Brosas another idiot #ALDUBKSGoesToUS  ht...  abusive\n",
              "2006  RT @ItIzBiz: as Nancy Reagan would say, 'just ...  abusive\n",
              "2007                                                Nan      NaN\n",
              "2008  RT @MailOnline: The Nazi death gas so horrific...     spam\n",
              "2009  I hate er chase because if the Bitch that work...  abusive\n",
              "2010                                                Nan      NaN\n",
              "2011  RT @chevleia: don't hmu when u get tired of ur...   normal\n",
              "2012  RT @ashllyd: SICK OF BITCHES ON THE INTERNET 🐍...  hateful\n",
              "2013                                                Nan      NaN\n",
              "2014                                                Nan      NaN\n",
              "2015                                                Nan      NaN\n",
              "2016  RT @nyctophil3: Pineapples do not belong on pi...  hateful\n",
              "2017                                                Nan      NaN\n",
              "2018                                                Nan      NaN\n",
              "2019                                                Nan      NaN\n",
              "2020  But he still with the shits so he started smok...     spam\n",
              "2021  RT @Configa: April Fools fucking #dope If you ...  abusive\n",
              "2022                                                Nan      NaN\n",
              "2023                                                Nan      NaN"
            ],
            "text/html": [
              "\n",
              "  <div id=\"df-119e4666-f012-4290-a0fa-78747dd30734\">\n",
              "    <div class=\"colab-df-container\">\n",
              "      <div>\n",
              "<style scoped>\n",
              "    .dataframe tbody tr th:only-of-type {\n",
              "        vertical-align: middle;\n",
              "    }\n",
              "\n",
              "    .dataframe tbody tr th {\n",
              "        vertical-align: top;\n",
              "    }\n",
              "\n",
              "    .dataframe thead th {\n",
              "        text-align: right;\n",
              "    }\n",
              "</style>\n",
              "<table border=\"1\" class=\"dataframe\">\n",
              "  <thead>\n",
              "    <tr style=\"text-align: right;\">\n",
              "      <th></th>\n",
              "      <th>text</th>\n",
              "      <th>label</th>\n",
              "    </tr>\n",
              "  </thead>\n",
              "  <tbody>\n",
              "    <tr>\n",
              "      <th>2004</th>\n",
              "      <td>Nan</td>\n",
              "      <td>NaN</td>\n",
              "    </tr>\n",
              "    <tr>\n",
              "      <th>2005</th>\n",
              "      <td>Alex Brosas another idiot #ALDUBKSGoesToUS  ht...</td>\n",
              "      <td>abusive</td>\n",
              "    </tr>\n",
              "    <tr>\n",
              "      <th>2006</th>\n",
              "      <td>RT @ItIzBiz: as Nancy Reagan would say, 'just ...</td>\n",
              "      <td>abusive</td>\n",
              "    </tr>\n",
              "    <tr>\n",
              "      <th>2007</th>\n",
              "      <td>Nan</td>\n",
              "      <td>NaN</td>\n",
              "    </tr>\n",
              "    <tr>\n",
              "      <th>2008</th>\n",
              "      <td>RT @MailOnline: The Nazi death gas so horrific...</td>\n",
              "      <td>spam</td>\n",
              "    </tr>\n",
              "    <tr>\n",
              "      <th>2009</th>\n",
              "      <td>I hate er chase because if the Bitch that work...</td>\n",
              "      <td>abusive</td>\n",
              "    </tr>\n",
              "    <tr>\n",
              "      <th>2010</th>\n",
              "      <td>Nan</td>\n",
              "      <td>NaN</td>\n",
              "    </tr>\n",
              "    <tr>\n",
              "      <th>2011</th>\n",
              "      <td>RT @chevleia: don't hmu when u get tired of ur...</td>\n",
              "      <td>normal</td>\n",
              "    </tr>\n",
              "    <tr>\n",
              "      <th>2012</th>\n",
              "      <td>RT @ashllyd: SICK OF BITCHES ON THE INTERNET 🐍...</td>\n",
              "      <td>hateful</td>\n",
              "    </tr>\n",
              "    <tr>\n",
              "      <th>2013</th>\n",
              "      <td>Nan</td>\n",
              "      <td>NaN</td>\n",
              "    </tr>\n",
              "    <tr>\n",
              "      <th>2014</th>\n",
              "      <td>Nan</td>\n",
              "      <td>NaN</td>\n",
              "    </tr>\n",
              "    <tr>\n",
              "      <th>2015</th>\n",
              "      <td>Nan</td>\n",
              "      <td>NaN</td>\n",
              "    </tr>\n",
              "    <tr>\n",
              "      <th>2016</th>\n",
              "      <td>RT @nyctophil3: Pineapples do not belong on pi...</td>\n",
              "      <td>hateful</td>\n",
              "    </tr>\n",
              "    <tr>\n",
              "      <th>2017</th>\n",
              "      <td>Nan</td>\n",
              "      <td>NaN</td>\n",
              "    </tr>\n",
              "    <tr>\n",
              "      <th>2018</th>\n",
              "      <td>Nan</td>\n",
              "      <td>NaN</td>\n",
              "    </tr>\n",
              "    <tr>\n",
              "      <th>2019</th>\n",
              "      <td>Nan</td>\n",
              "      <td>NaN</td>\n",
              "    </tr>\n",
              "    <tr>\n",
              "      <th>2020</th>\n",
              "      <td>But he still with the shits so he started smok...</td>\n",
              "      <td>spam</td>\n",
              "    </tr>\n",
              "    <tr>\n",
              "      <th>2021</th>\n",
              "      <td>RT @Configa: April Fools fucking #dope If you ...</td>\n",
              "      <td>abusive</td>\n",
              "    </tr>\n",
              "    <tr>\n",
              "      <th>2022</th>\n",
              "      <td>Nan</td>\n",
              "      <td>NaN</td>\n",
              "    </tr>\n",
              "    <tr>\n",
              "      <th>2023</th>\n",
              "      <td>Nan</td>\n",
              "      <td>NaN</td>\n",
              "    </tr>\n",
              "  </tbody>\n",
              "</table>\n",
              "</div>\n",
              "      <button class=\"colab-df-convert\" onclick=\"convertToInteractive('df-119e4666-f012-4290-a0fa-78747dd30734')\"\n",
              "              title=\"Convert this dataframe to an interactive table.\"\n",
              "              style=\"display:none;\">\n",
              "        \n",
              "  <svg xmlns=\"http://www.w3.org/2000/svg\" height=\"24px\"viewBox=\"0 0 24 24\"\n",
              "       width=\"24px\">\n",
              "    <path d=\"M0 0h24v24H0V0z\" fill=\"none\"/>\n",
              "    <path d=\"M18.56 5.44l.94 2.06.94-2.06 2.06-.94-2.06-.94-.94-2.06-.94 2.06-2.06.94zm-11 1L8.5 8.5l.94-2.06 2.06-.94-2.06-.94L8.5 2.5l-.94 2.06-2.06.94zm10 10l.94 2.06.94-2.06 2.06-.94-2.06-.94-.94-2.06-.94 2.06-2.06.94z\"/><path d=\"M17.41 7.96l-1.37-1.37c-.4-.4-.92-.59-1.43-.59-.52 0-1.04.2-1.43.59L10.3 9.45l-7.72 7.72c-.78.78-.78 2.05 0 2.83L4 21.41c.39.39.9.59 1.41.59.51 0 1.02-.2 1.41-.59l7.78-7.78 2.81-2.81c.8-.78.8-2.07 0-2.86zM5.41 20L4 18.59l7.72-7.72 1.47 1.35L5.41 20z\"/>\n",
              "  </svg>\n",
              "      </button>\n",
              "      \n",
              "  <style>\n",
              "    .colab-df-container {\n",
              "      display:flex;\n",
              "      flex-wrap:wrap;\n",
              "      gap: 12px;\n",
              "    }\n",
              "\n",
              "    .colab-df-convert {\n",
              "      background-color: #E8F0FE;\n",
              "      border: none;\n",
              "      border-radius: 50%;\n",
              "      cursor: pointer;\n",
              "      display: none;\n",
              "      fill: #1967D2;\n",
              "      height: 32px;\n",
              "      padding: 0 0 0 0;\n",
              "      width: 32px;\n",
              "    }\n",
              "\n",
              "    .colab-df-convert:hover {\n",
              "      background-color: #E2EBFA;\n",
              "      box-shadow: 0px 1px 2px rgba(60, 64, 67, 0.3), 0px 1px 3px 1px rgba(60, 64, 67, 0.15);\n",
              "      fill: #174EA6;\n",
              "    }\n",
              "\n",
              "    [theme=dark] .colab-df-convert {\n",
              "      background-color: #3B4455;\n",
              "      fill: #D2E3FC;\n",
              "    }\n",
              "\n",
              "    [theme=dark] .colab-df-convert:hover {\n",
              "      background-color: #434B5C;\n",
              "      box-shadow: 0px 1px 3px 1px rgba(0, 0, 0, 0.15);\n",
              "      filter: drop-shadow(0px 1px 2px rgba(0, 0, 0, 0.3));\n",
              "      fill: #FFFFFF;\n",
              "    }\n",
              "  </style>\n",
              "\n",
              "      <script>\n",
              "        const buttonEl =\n",
              "          document.querySelector('#df-119e4666-f012-4290-a0fa-78747dd30734 button.colab-df-convert');\n",
              "        buttonEl.style.display =\n",
              "          google.colab.kernel.accessAllowed ? 'block' : 'none';\n",
              "\n",
              "        async function convertToInteractive(key) {\n",
              "          const element = document.querySelector('#df-119e4666-f012-4290-a0fa-78747dd30734');\n",
              "          const dataTable =\n",
              "            await google.colab.kernel.invokeFunction('convertToInteractive',\n",
              "                                                     [key], {});\n",
              "          if (!dataTable) return;\n",
              "\n",
              "          const docLinkHtml = 'Like what you see? Visit the ' +\n",
              "            '<a target=\"_blank\" href=https://colab.research.google.com/notebooks/data_table.ipynb>data table notebook</a>'\n",
              "            + ' to learn more about interactive tables.';\n",
              "          element.innerHTML = '';\n",
              "          dataTable['output_type'] = 'display_data';\n",
              "          await google.colab.output.renderOutput(dataTable, element);\n",
              "          const docLink = document.createElement('div');\n",
              "          docLink.innerHTML = docLinkHtml;\n",
              "          element.appendChild(docLink);\n",
              "        }\n",
              "      </script>\n",
              "    </div>\n",
              "  </div>\n",
              "  "
            ]
          },
          "metadata": {},
          "execution_count": 13
        }
      ]
    },
    {
      "cell_type": "code",
      "source": [
        "df_tweets.dropna(inplace=True)"
      ],
      "metadata": {
        "id": "ZMssPptyBX-0"
      },
      "execution_count": 14,
      "outputs": []
    },
    {
      "cell_type": "code",
      "source": [
        "df_tweets.rename(columns = {'text':'tweets'}, inplace = True)\n",
        "df_tweets.to_csv('hatespeech_tweets_sample.csv', encoding='utf-8', index=False)\n",
        "\n",
        "from google.colab import files\n",
        "files.download('hatespeech_tweets_sample.csv')"
      ],
      "metadata": {
        "colab": {
          "base_uri": "https://localhost:8080/",
          "height": 17
        },
        "id": "cjRKueQpAU50",
        "outputId": "b3bc2689-8703-49f9-b3b2-a468444d6d65"
      },
      "execution_count": 15,
      "outputs": [
        {
          "output_type": "display_data",
          "data": {
            "text/plain": [
              "<IPython.core.display.Javascript object>"
            ],
            "application/javascript": [
              "\n",
              "    async function download(id, filename, size) {\n",
              "      if (!google.colab.kernel.accessAllowed) {\n",
              "        return;\n",
              "      }\n",
              "      const div = document.createElement('div');\n",
              "      const label = document.createElement('label');\n",
              "      label.textContent = `Downloading \"${filename}\": `;\n",
              "      div.appendChild(label);\n",
              "      const progress = document.createElement('progress');\n",
              "      progress.max = size;\n",
              "      div.appendChild(progress);\n",
              "      document.body.appendChild(div);\n",
              "\n",
              "      const buffers = [];\n",
              "      let downloaded = 0;\n",
              "\n",
              "      const channel = await google.colab.kernel.comms.open(id);\n",
              "      // Send a message to notify the kernel that we're ready.\n",
              "      channel.send({})\n",
              "\n",
              "      for await (const message of channel.messages) {\n",
              "        // Send a message to notify the kernel that we're ready.\n",
              "        channel.send({})\n",
              "        if (message.buffers) {\n",
              "          for (const buffer of message.buffers) {\n",
              "            buffers.push(buffer);\n",
              "            downloaded += buffer.byteLength;\n",
              "            progress.value = downloaded;\n",
              "          }\n",
              "        }\n",
              "      }\n",
              "      const blob = new Blob(buffers, {type: 'application/binary'});\n",
              "      const a = document.createElement('a');\n",
              "      a.href = window.URL.createObjectURL(blob);\n",
              "      a.download = filename;\n",
              "      div.appendChild(a);\n",
              "      a.click();\n",
              "      div.remove();\n",
              "    }\n",
              "  "
            ]
          },
          "metadata": {}
        },
        {
          "output_type": "display_data",
          "data": {
            "text/plain": [
              "<IPython.core.display.Javascript object>"
            ],
            "application/javascript": [
              "download(\"download_721f11f9-8916-4977-b0f6-ee013277d435\", \"hatespeech_tweets_sample2.csv\", 34703)"
            ]
          },
          "metadata": {}
        }
      ]
    }
  ]
}